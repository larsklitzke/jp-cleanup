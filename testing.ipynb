{
 "nbformat_minor": 0,
 "cells": [
  {
   "execution_count": 29,
   "outputs": [],
   "metadata": {
    "pycharm": {
     "name": "#%%\n",
     "is_executing": false
    },
    "collapsed": false
   },
   "cell_type": "code",
   "source": [
    "import jpcleanup as jpc"
   ]
  },
  {
   "source": [
    "# Example on how to reset the output of a jupyter notebook. \n",
    "\n",
    "For demonstration purpose, we reset the output of this notebook. So let's load the content of this notebook"
   ],
   "metadata": {
    "pycharm": {
     "name": "#%% md\n"
    },
    "collapsed": false
   },
   "cell_type": "markdown"
  },
  {
   "execution_count": 25,
   "outputs": [],
   "metadata": {
    "pycharm": {
     "name": "#%%\n",
     "is_executing": false
    },
    "collapsed": false
   },
   "cell_type": "code",
   "source": [
    "name, content = jpc.load('testing') # or with .ipynb\n",
    "name, content"
   ]
  },
  {
   "source": [
    "Reset the output fields of all cells with `clear_field`. Without specifying any arguments, the output fields will be \n",
    "resetted by default. You may specify other cell attributes with the `field=<name>` parameter and set the value with \n",
    "`clear_value=<value>`."
   ],
   "metadata": {
    "pycharm": {
     "name": "#%% md\n"
    },
    "collapsed": false
   },
   "cell_type": "markdown"
  },
  {
   "execution_count": 28,
   "outputs": [],
   "metadata": {
    "pycharm": {
     "name": "#%%\n",
     "is_executing": false
    },
    "collapsed": false
   },
   "cell_type": "code",
   "source": [
    "c = jpc.clear_field(content)\n",
    "c"
   ]
  },
  {
   "source": [
    "Write the result back to this file to clear the outputs. Your editor may ask you to reload changes from disk. The \n",
    "output should be gone afterwards. In PyCharm you have to close and reopen the notebook to see the affects."
   ],
   "metadata": {
    "pycharm": {
     "name": "#%% md\n"
    },
    "collapsed": false
   },
   "cell_type": "markdown"
  },
  {
   "execution_count": 27,
   "outputs": [],
   "metadata": {
    "pycharm": {
     "name": "#%%\n",
     "is_executing": false
    },
    "collapsed": false
   },
   "cell_type": "code",
   "source": [
    "jpc.save(c, name)"
   ]
  }
 ],
 "nbformat": 4,
 "metadata": {
  "language_info": {
   "nbconvert_exporter": "python",
   "pygments_lexer": "ipython2",
   "version": "2.7.6",
   "name": "python",
   "codemirror_mode": {
    "name": "ipython",
    "version": 2
   },
   "file_extension": ".py",
   "mimetype": "text/x-python"
  },
  "pycharm": {
   "stem_cell": {
    "cell_type": "raw",
    "source": [],
    "metadata": {
     "collapsed": false
    }
   }
  },
  "kernelspec": {
   "name": "python3",
   "display_name": "Python 3",
   "language": "python"
  }
 }
}